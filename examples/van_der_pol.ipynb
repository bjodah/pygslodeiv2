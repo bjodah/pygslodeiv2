{
 "cells": [
  {
   "cell_type": "code",
   "execution_count": null,
   "metadata": {
    "collapsed": false
   },
   "outputs": [],
   "source": [
    "from pygslodeiv2 import integrate_predefined, fpes\n",
    "import numpy as np\n",
    "from van_der_pol import get_f_and_j"
   ]
  },
  {
   "cell_type": "code",
   "execution_count": null,
   "metadata": {
    "collapsed": false
   },
   "outputs": [],
   "source": [
    "help(integrate_predefined)"
   ]
  },
  {
   "cell_type": "code",
   "execution_count": null,
   "metadata": {
    "collapsed": false
   },
   "outputs": [],
   "source": [
    "rhs, jac = get_f_and_j(1.0)\n",
    "xout = np.linspace(0, 10, 200)\n",
    "yout, info = integrate_predefined(\n",
    "    rhs, jac, [0, 1], xout, dx0=1e-12, atol=1e-15, rtol=1e-15,\n",
    "    record_rhs_xvals=True, record_jac_xvals=True, record_order=True,\n",
    "    record_fpe=True, nsteps=2000)\n",
    "print(info['nfev'], info['success'], info['time_wall'])"
   ]
  },
  {
   "cell_type": "code",
   "execution_count": null,
   "metadata": {
    "collapsed": false
   },
   "outputs": [],
   "source": [
    "import matplotlib.pyplot as plt\n",
    "%matplotlib inline\n",
    "fig, axes = plt.subplots(5, 1, figsize=(16,16))\n",
    "for k, ax in zip(['steps', 'rhs', 'jac'], axes.flat):\n",
    "    ax.vlines(xout if k == 'steps' else info[k + '_xvals'], 0, 1, transform=ax.get_xaxis_transform(),\n",
    "              colors='darkgreen', alpha=0.006 if k == 'rhs' else 0.5)\n",
    "    #for x in xout if k == 'steps' else info[k + '_xvals']:\n",
    "    #    ax.axvline(x, c='darkgreen', alpha=0.1)\n",
    "    ax.plot(xout, yout)\n",
    "    ax.set_xlim([xout[0], xout[-1]])\n",
    "    ax.set_ylabel(k)\n",
    "axes[-2].plot(xout[1:], info['fpes'][1:] - fpes['FE_INEXACT'])\n",
    "axes[-2].set_ylabel('fpes')\n",
    "axes[-1].plot(xout, info['orders'])\n",
    "axes[-1].set_ylabel('order')\n",
    "_ = plt.tight_layout"
   ]
  },
  {
   "cell_type": "code",
   "execution_count": null,
   "metadata": {
    "collapsed": false
   },
   "outputs": [],
   "source": [
    "info.keys()"
   ]
  },
  {
   "cell_type": "code",
   "execution_count": null,
   "metadata": {
    "collapsed": false
   },
   "outputs": [],
   "source": [
    "fpes"
   ]
  }
 ],
 "metadata": {
  "kernelspec": {
   "display_name": "Python 3",
   "language": "python",
   "name": "python3"
  },
  "language_info": {
   "codemirror_mode": {
    "name": "ipython",
    "version": 3
   },
   "file_extension": ".py",
   "mimetype": "text/x-python",
   "name": "python",
   "nbconvert_exporter": "python",
   "pygments_lexer": "ipython3",
   "version": "3.5.2"
  }
 },
 "nbformat": 4,
 "nbformat_minor": 0
}
